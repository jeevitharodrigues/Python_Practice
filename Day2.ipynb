{
  "nbformat": 4,
  "nbformat_minor": 0,
  "metadata": {
    "colab": {
      "provenance": []
    },
    "kernelspec": {
      "name": "python3",
      "display_name": "Python 3"
    },
    "language_info": {
      "name": "python"
    }
  },
  "cells": [
    {
      "cell_type": "markdown",
      "source": [
        "##Functions"
      ],
      "metadata": {
        "id": "sKZwRevUDQc0"
      }
    },
    {
      "cell_type": "markdown",
      "source": [
        "Fibonacci Series generation"
      ],
      "metadata": {
        "id": "Wt2Umni0HSWX"
      }
    },
    {
      "cell_type": "code",
      "execution_count": 2,
      "metadata": {
        "colab": {
          "base_uri": "https://localhost:8080/"
        },
        "id": "faFiOXD8DM6v",
        "outputId": "3b090976-9f95-4486-cf3d-06af6f024625"
      },
      "outputs": [
        {
          "output_type": "stream",
          "name": "stdout",
          "text": [
            "Enter a value7\n",
            "[0, 1, 1, 2, 3, 5, 8]\n"
          ]
        }
      ],
      "source": [
        "def fib(n):\n",
        "  if n==1:\n",
        "    return [0]\n",
        "  if n==2:\n",
        "    return [0,1]\n",
        "  else:\n",
        "    base_list=[0,1]\n",
        "    for i in range(2,n):\n",
        "      base_list.append(base_list[i-1]+base_list[i-2])\n",
        "    return base_list\n",
        "\n",
        "n=int(input(\"Enter a value\"))\n",
        "print(fib(n))"
      ]
    },
    {
      "cell_type": "markdown",
      "source": [
        "Fibonacci Series using Recursive function:"
      ],
      "metadata": {
        "id": "kGni4zQHIpMV"
      }
    },
    {
      "cell_type": "code",
      "source": [
        "def fib(n):\n",
        "  if n==1:\n",
        "    return 0\n",
        "  if n==2:\n",
        "    return 1\n",
        "  else:\n",
        "    return fib(n-1)+fib(n-2)\n",
        "\n",
        "\n",
        "n=int(input(\"Enter a value\"))\n",
        "\n",
        "for i in range(1,n+1):\n",
        "  print(fib(i),end=\" \")\n",
        "\n"
      ],
      "metadata": {
        "colab": {
          "base_uri": "https://localhost:8080/"
        },
        "id": "Go-JCy8HG95V",
        "outputId": "75e1cd69-c751-40ac-ad52-d2800361f498"
      },
      "execution_count": 7,
      "outputs": [
        {
          "output_type": "stream",
          "name": "stdout",
          "text": [
            "Enter a value7\n",
            "0 1 1 2 3 5 8 "
          ]
        }
      ]
    },
    {
      "cell_type": "markdown",
      "source": [
        "##Classes"
      ],
      "metadata": {
        "id": "t0Tuqq87I66v"
      }
    },
    {
      "cell_type": "code",
      "source": [
        "class cars:\n",
        "  def __init__(self,name,engine):\n",
        "    self.name=name\n",
        "    self.engine=engine\n",
        "\n",
        "  def print_name(self,brand):\n",
        "    print(f\"Car name is {self.name} which is of brand {brand}\")\n",
        "\n",
        "\n",
        "  def print_engine(self):\n",
        "    print(f\"Car engine is {self.engine}\")\n",
        "\n",
        "car1=cars(\"Ferrari\",\"vb8\")\n",
        "car1.print_name(\"Jeevitha\")\n",
        "car2=cars(\"Mercedes\",\"abcd\")\n",
        "car2.print_engine()"
      ],
      "metadata": {
        "colab": {
          "base_uri": "https://localhost:8080/"
        },
        "id": "cBHQ-jG-ID9V",
        "outputId": "98c8b54d-5dd6-44ef-d9e6-dbac1c565391"
      },
      "execution_count": 8,
      "outputs": [
        {
          "output_type": "stream",
          "name": "stdout",
          "text": [
            "Car name is Ferrari which is of brand Jeevitha\n",
            "Car engine is abcd\n"
          ]
        }
      ]
    },
    {
      "cell_type": "code",
      "source": [
        "class cars:\n",
        "  def __init__(self,name,engine):\n",
        "    self.name=name\n",
        "    self.engine=engine\n",
        "    self.print_engine()\n",
        "\n",
        "  def print_name(self,brand):\n",
        "    print(f\"Car name is {self.name} which is of brand {brand}\")\n",
        "\n",
        "\n",
        "  def print_engine(self):\n",
        "    print(f\"Car engine is {self.engine}\")\n",
        "\n",
        "car1=cars(\"Ferrari\",\"vb8\")\n"
      ],
      "metadata": {
        "colab": {
          "base_uri": "https://localhost:8080/"
        },
        "id": "f2fwvo03MjA_",
        "outputId": "db547f38-e7d1-4c72-ac13-fcbdd5a5c4ad"
      },
      "execution_count": 9,
      "outputs": [
        {
          "output_type": "stream",
          "name": "stdout",
          "text": [
            "Car engine is vb8\n"
          ]
        }
      ]
    },
    {
      "cell_type": "code",
      "source": [
        "class cars:\n",
        "  name=\"Ferrari\"\n",
        "  engine=\"vb8\"\n",
        "  def print_name(self,brand):\n",
        "    print(f\"Car name is {self.name} which is of brand {brand}\")\n",
        "\n",
        "\n",
        "  def print_engine(self):\n",
        "    print(f\"Car engine is {self.engine}\")\n",
        "\n",
        "car1=cars()\n",
        "car1.print_name(\"abcd\")\n"
      ],
      "metadata": {
        "colab": {
          "base_uri": "https://localhost:8080/"
        },
        "id": "UeVy6ReKNNO-",
        "outputId": "a968fea8-e29b-40a4-94f7-489e0b83503a"
      },
      "execution_count": 11,
      "outputs": [
        {
          "output_type": "stream",
          "name": "stdout",
          "text": [
            "Car name is Ferrari which is of brand abcd\n"
          ]
        }
      ]
    },
    {
      "cell_type": "code",
      "source": [],
      "metadata": {
        "id": "CvKIwMcLOB7c"
      },
      "execution_count": null,
      "outputs": []
    }
  ]
}